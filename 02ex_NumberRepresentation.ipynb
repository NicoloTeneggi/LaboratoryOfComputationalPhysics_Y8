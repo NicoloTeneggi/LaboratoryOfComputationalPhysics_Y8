{
 "cells": [
  {
   "cell_type": "markdown",
   "metadata": {},
   "source": [
    "1\\. Write a function that converts number representation, bin<->dec<->hex. (Clearly using the corresponding python built-in functions is not fair..)"
   ]
  },
  {
   "cell_type": "code",
   "execution_count": null,
   "metadata": {},
   "outputs": [],
   "source": []
  },
  {
   "cell_type": "markdown",
   "metadata": {},
   "source": [
    "2\\. Write a function that converts a 32 bit word into a single precision floating point (i.e. interprets the various bits as sign, mantissa and exponent)"
   ]
  },
  {
   "cell_type": "code",
   "execution_count": 44,
   "metadata": {},
   "outputs": [
    {
     "name": "stdout",
     "output_type": "stream",
     "text": [
      "00111110001000000000000000000000\n",
      "124\n"
     ]
    },
    {
     "data": {
      "text/plain": [
       "0.15625"
      ]
     },
     "execution_count": 44,
     "metadata": {},
     "output_type": "execute_result"
    }
   ],
   "source": [
    "def fun(x):\n",
    "    \n",
    "    print(x)\n",
    "    sign = 2**int(x[0])\n",
    "    \n",
    "    exponent = 0\n",
    "    for i in range(8):\n",
    "        exponent += (2**(8-i))*int(x[i])\n",
    "    print(exponent)\n",
    "\n",
    "    mantissa = 1.\n",
    "    for i in range(1, 23):\n",
    "        mantissa += int(x[8+i])*2**(-i)\n",
    "    \n",
    "\n",
    "    x = sign*mantissa*2**(exponent-127)   \n",
    "\n",
    "    return x\n",
    "\n",
    "a = '00111110001000000000000000000000'\n",
    "\n",
    "fun(a)\n",
    "\n"
   ]
  },
  {
   "cell_type": "markdown",
   "metadata": {},
   "source": [
    "3\\. Write a program to determine the underflow and overflow limits (within a factor of 2) for python on your computer. \n",
    "\n",
    "**Tips**: define two variables inizialized to 1 and halve/double them enough time to exceed the under/over-flow limits  "
   ]
  },
  {
   "cell_type": "code",
   "execution_count": 96,
   "metadata": {},
   "outputs": [
    {
     "name": "stdout",
     "output_type": "stream",
     "text": [
      "1024 8.98846567431158e+307\n",
      "1075 5e-324\n"
     ]
    }
   ],
   "source": [
    "x = 1.\n",
    "y = 1.\n",
    "\n",
    "inf = float('inf')\n",
    "counter = 0\n",
    "counter2 = 0\n",
    "\n",
    "while x < inf:\n",
    "    x *= 2\n",
    "    counter += 1\n",
    "\n",
    "while y > 0:\n",
    "    y /= 2\n",
    "    counter2 += 1\n",
    "\n",
    "limit = float(2**(counter-1))\n",
    "limit2 = float(2**(-counter2+1))\n",
    "\n",
    "print(counter, limit)\n",
    "print(counter2, limit2)\n"
   ]
  },
  {
   "cell_type": "markdown",
   "metadata": {},
   "source": [
    "4\\. Write a program to determine the machine precision\n",
    "\n",
    "**Tips**: define a new variable by adding a smaller and smaller value (proceeding similarly to prob. 2) to an original variable and check the point where the two are the same "
   ]
  },
  {
   "cell_type": "code",
   "execution_count": 99,
   "metadata": {},
   "outputs": [
    {
     "name": "stdout",
     "output_type": "stream",
     "text": [
      "1.0 1.0\n",
      "54 5.551115123125783e-17\n"
     ]
    }
   ],
   "source": [
    "x = 1.\n",
    "y = 1.\n",
    "counter = 0\n",
    "while True:\n",
    "    z = x+y\n",
    "    counter += 1\n",
    "    if z != x:\n",
    "        y /= 2\n",
    "\n",
    "    elif z == x:\n",
    "        break    \n",
    "\n",
    "precision = 2**(-counter)\n",
    "print(x, z)\n",
    "print(counter, precision)\n",
    "    "
   ]
  },
  {
   "cell_type": "markdown",
   "metadata": {},
   "source": [
    "5\\. Write a function that takes in input three parameters $a$, $b$ and $c$ and prints out the two solutions to the quadratic equation $ax^2+bx+c=0$ using the standard formula:\n",
    "$$\n",
    "x=\\frac{-b\\pm\\sqrt{b^2-4ac}}{2a}\n",
    "$$\n",
    "\n",
    "(a) use the program to compute the solution for $a=0.001$, $b=1000$ and $c=0.001$\n",
    "\n",
    "(b) re-express the standard solution formula by multiplying top and bottom by $-b\\mp\\sqrt{b^2-4ac}$ and again find the solution for $a=0.001$, $b=1000$ and $c=0.001$. How does it compare with what previously obtained? Why?\n",
    "\n",
    "(c) write a function that compute the roots of a quadratic equation accurately in all cases"
   ]
  },
  {
   "cell_type": "code",
   "execution_count": null,
   "metadata": {},
   "outputs": [
    {
     "name": "stdout",
     "output_type": "stream",
     "text": [
      "999.999999998\n",
      "-1.999978849198669e-09\n",
      "-1999.999999998\n",
      "-3.999999999996\n"
     ]
    }
   ],
   "source": [
    "import math\n",
    "\n",
    "def root(a, b, c):\n",
    "    x1 = (-b + math.sqrt(b**2-4*a*c))/(2*a)\n",
    "    x2 = (-b - math.sqrt(b**2-4*a*c))/(2*a)\n",
    "\n",
    "    return(x1, x2)\n",
    "\n",
    "a = 0.001\n",
    "b = 1000\n",
    "c = 0.001\n",
    "\n",
    "x = 1\n",
    "y = 2\n",
    "z = 1\n",
    "\n",
    "def root2(a, b, c):\n",
    "    x1 = (4*a*c)/((2*a)*(-b-math.sqrt(b**2-4*a*c)))\n",
    "    x2 = (4*a*c)/((2*a)*(-b+math.sqrt(b**2-4*a*c)))\n",
    "\n",
    "    return(x1, x2)\n",
    "\n",
    "\n",
    "(x1, x2) = root(a, b, c)\n",
    "#print(x1, x2)\n",
    "\n",
    "(x1, x2) = root2(a, b, c)\n",
    "#print(x1, x2)\n",
    "\n",
    "print(math.sqrt(b**2-4*a*c))\n",
    "print(-b + math.sqrt(b**2-4*a*c))\n",
    "print(-b - math.sqrt(b**2-4*a*c))\n",
    "\n",
    "print((2*a)*(-b-math.sqrt(b**2-4*a*c)))\n",
    "\n",
    "#look online"
   ]
  },
  {
   "cell_type": "markdown",
   "metadata": {},
   "source": [
    "6\\. Write a program that implements the function $f(x)=x(x−1)$\n",
    "\n",
    "(a) Calculate the derivative of the function at the point $x = 1$ using the derivative definition:\n",
    "\n",
    "$$\n",
    "\\frac{{\\rm d}f}{{\\rm d}x} = \\lim_{\\delta\\to0} \\frac{f(x+\\delta)-f(x)}{\\delta}\n",
    "$$\n",
    "\n",
    "with $\\delta = 10^{−2}$. Calculate the true value of the same derivative analytically and compare with the answer your program gives. The two will not agree perfectly. Why not?\n",
    "\n",
    "(b) Repeat the calculation for $\\delta = 10^{−4}, 10^{−6}, 10^{−8}, 10^{−10}, 10^{−12}$ and $10^{−14}$. How does the accuracy scales with $\\delta$?"
   ]
  },
  {
   "cell_type": "code",
   "execution_count": 129,
   "metadata": {},
   "outputs": [
    {
     "name": "stdout",
     "output_type": "stream",
     "text": [
      "[1.010000000000001, 1.0000999999998899, 1.0000009999177333, 1.0000000039225287, 1.000000082840371, 1.0000889005833413, 0.9992007221626509]\n",
      "[99.00990099009891, 99.99000099991102, 99.99990000832666, 99.99999960774713, 99.99999171596359, 99.99111073192698, 100.07999171934337]\n"
     ]
    }
   ],
   "source": [
    "def f(x):\n",
    "    return x*(x-1)\n",
    "\n",
    "values = [(f(1+10**(-x))-f(1))/(10**(-x)) for x in range(1, 15) if x%2 == 0 ]\n",
    "print(values)\n",
    "\n",
    "accuracy = [(1/i)*100 for i in values]\n",
    "print(accuracy)\n"
   ]
  },
  {
   "cell_type": "markdown",
   "metadata": {},
   "source": [
    "7\\. Consider the integral of the semicircle of radius 1:\n",
    "$$\n",
    "I=\\int_{-1}^{1} \\sqrt(1-x^2) {\\rm d}x\n",
    "$$\n",
    "which it's known to be $I=\\frac{\\pi}{2}=1.57079632679...$.\n",
    "Alternatively we can use the Riemann definition of the integral:\n",
    "$$\n",
    "I=\\lim_{N\\to\\infty} \\sum_{k=1}^{N} h y_k \n",
    "$$\n",
    "\n",
    "with $h=2/N$ the width of each of the $N$ slices the domain is divided into and where\n",
    "$y_k$ is the value of the function at the $k-$th slice.\n",
    "\n",
    "(a) Write a programe to compute the integral with $N=100$. How does the result compares to the true value?\n",
    "\n",
    "(b) How much can $N$ be increased if the computation needs to be run in less than a second? What is the gain in running it for 1 minute? \n"
   ]
  },
  {
   "cell_type": "code",
   "execution_count": 159,
   "metadata": {},
   "outputs": [
    {
     "name": "stdout",
     "output_type": "stream",
     "text": [
      "1.5707947543354794\n",
      "Running this program with 1000000 iterations took 0.74480 seconds\n",
      "The accuracy of the calculation is 99.9998998941\n",
      "1.5707963006113796\n",
      "Running this program with 60000000 iterations took 43.09730 seconds\n",
      "The accuracy of the calculation is 99.9999983331\n"
     ]
    }
   ],
   "source": [
    "import math as m\n",
    "import numpy as np\n",
    "import time as t\n",
    "\n",
    "def f(x):\n",
    "    return m.sqrt(1-x**2)\n",
    "\n",
    "for N in [1000000, 1000000*60]:\n",
    "    start = t.perf_counter()\n",
    "    domain = np.linspace(-1, 1, N)\n",
    "    integral = sum([(2/N)*f(i) for i in domain])\n",
    "    print(integral)\n",
    "    stop = t.perf_counter()\n",
    "\n",
    "    print('Running this program with %d iterations took %.5f seconds' %(N, stop-start))\n",
    "\n",
    "    accuracy = (integral/(m.pi/2))*100\n",
    "    print('The accuracy of the calculation is %.10f' %accuracy)\n",
    "\n",
    "\n"
   ]
  }
 ],
 "metadata": {
  "kernelspec": {
   "display_name": "Python 3",
   "language": "python",
   "name": "python3"
  },
  "language_info": {
   "codemirror_mode": {
    "name": "ipython",
    "version": 3
   },
   "file_extension": ".py",
   "mimetype": "text/x-python",
   "name": "python",
   "nbconvert_exporter": "python",
   "pygments_lexer": "ipython3",
   "version": "3.13.5"
  }
 },
 "nbformat": 4,
 "nbformat_minor": 2
}
